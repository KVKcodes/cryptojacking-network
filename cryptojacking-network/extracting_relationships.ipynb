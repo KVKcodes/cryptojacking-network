{
 "cells": [
  {
   "cell_type": "code",
   "execution_count": null,
   "id": "40faf8f3-28bb-42e8-96fe-185c9dd0ecda",
   "metadata": {},
   "outputs": [],
   "source": [
    "import pandas as pd\n",
    "import numpy as np\n",
    "import spacy\n",
    "from spacy import displacy\n",
    "import networkx as nx\n",
    "\n",
    "import matplotlib.pyplot as plt"
   ]
  },
  {
   "cell_type": "code",
   "execution_count": null,
   "id": "74f89627-c165-4b2d-971e-51a7ecf549e6",
   "metadata": {
    "collapsed": true,
    "jupyter": {
     "outputs_hidden": true
    },
    "tags": []
   },
   "outputs": [],
   "source": [
    "!python3 -m spacy download en_core_web_sm"
   ]
  },
  {
   "cell_type": "code",
   "execution_count": null,
   "id": "e8f27aba-7fb0-40a7-b262-857d3d470ad3",
   "metadata": {},
   "outputs": [],
   "source": [
    "# Load spacy English languague model\n",
    "NER = spacy.load(\"en_core_web_sm\")"
   ]
  },
  {
   "cell_type": "markdown",
   "id": "0e33c585-fcc7-4011-a8db-12ac2bb33930",
   "metadata": {},
   "source": [
    "## Load books"
   ]
  },
  {
   "cell_type": "code",
   "execution_count": null,
   "id": "c0965958-15b0-483b-b8f9-c19133bf24a9",
   "metadata": {},
   "outputs": [],
   "source": [
    "import os\n",
    " \n",
    "# Get all book files in the data directory\n",
    "all_books = [b for b in os.scandir('data') if '.txt' in b.name]"
   ]
  },
  {
   "cell_type": "code",
   "execution_count": null,
   "id": "76682b99-52e4-4b7d-ab9f-f33e438115af",
   "metadata": {},
   "outputs": [],
   "source": [
    "all_books"
   ]
  },
  {
   "cell_type": "code",
   "execution_count": null,
   "id": "5c70eece-eb4d-490a-9e85-406ef55bb847",
   "metadata": {},
   "outputs": [],
   "source": [
    "book = all_books[1]\n",
    "# book = cryptojacking\n",
    "book_text = open(book).read()\n",
    "print(book_text)"
   ]
  },
  {
   "cell_type": "code",
   "execution_count": null,
   "id": "89725b7a",
   "metadata": {},
   "outputs": [],
   "source": [
    "all_entities = NER(book_text)"
   ]
  },
  {
   "cell_type": "code",
   "execution_count": null,
   "id": "7ab00a69",
   "metadata": {},
   "outputs": [],
   "source": [
    "entity_types_to_remove = [\"CARDINAL\", \"TIME\", \"DATE\", \"ORDINAL\", \"QUANTITY\", \"PERCENT\", \"MONEY\"]\n",
    "filtered_entities =[ent.text for ent in all_entities.ents if ent.label_ not in entity_types_to_remove]\n",
    "print(filtered_entities)"
   ]
  },
  {
   "cell_type": "code",
   "execution_count": null,
   "id": "9f5f7003-c1d3-4b1e-a0d3-9493e5d350d6",
   "metadata": {
    "collapsed": true,
    "jupyter": {
     "outputs_hidden": true
    },
    "tags": []
   },
   "outputs": [],
   "source": [
    "# Visualize identified entities\n",
    "displacy.render(all_entities[0:2000], style=\"ent\", jupyter=True)"
   ]
  },
  {
   "cell_type": "markdown",
   "id": "ed7a4727-37c5-4e4d-8832-771aa6523321",
   "metadata": {},
   "source": [
    "## Get named entity list per sentence"
   ]
  },
  {
   "cell_type": "code",
   "execution_count": null,
   "id": "c5bad64c-2e27-4b85-b5e2-73cc92dc1f9d",
   "metadata": {},
   "outputs": [],
   "source": [
    "sent_entity_df = []\n",
    "\n",
    "# Loop through sentences, store named entity list for each sentence\n",
    "for sent in all_entities.sents:\n",
    "    entity_list = [ent.text for ent in sent.ents if ent.label_ not in entity_types_to_remove]\n",
    "    sent_entity_df.append({\"sentence\": sent, \"entities\": entity_list})\n",
    "    \n",
    "sent_entity_df = pd.DataFrame(sent_entity_df)\n",
    "print(sent_entity_df.head(10))"
   ]
  },
  {
   "cell_type": "code",
   "execution_count": null,
   "id": "66c7bbb8-0611-49e0-b372-0350d777a66f",
   "metadata": {
    "collapsed": true,
    "jupyter": {
     "outputs_hidden": true
    },
    "tags": []
   },
   "outputs": [],
   "source": [
    "sent_entity_df"
   ]
  },
  {
   "cell_type": "code",
   "execution_count": null,
   "id": "10817612-87cb-47f3-b154-60636718e302",
   "metadata": {},
   "outputs": [],
   "source": [
    "# Filter out sentences that don't have any entities\n",
    "sent_entity_df_filtered = sent_entity_df[sent_entity_df['entities'].map(len) > 0]\n",
    "sent_entity_df_filtered.head(10)"
   ]
  },
  {
   "cell_type": "code",
   "execution_count": null,
   "id": "37d460d3-f9e7-43a6-b501-0682a7032883",
   "metadata": {},
   "outputs": [],
   "source": [
    "pd.reset_option('^display.', silent=True)\n",
    "sent_entity_df_filtered"
   ]
  },
  {
   "cell_type": "markdown",
   "id": "13464cb5-e6ea-491e-bbc5-ce84801a1f3b",
   "metadata": {},
   "source": [
    "## Create relationships"
   ]
  },
  {
   "cell_type": "code",
   "execution_count": null,
   "id": "a19c1561-f77c-41e2-9a10-f7c0c80a43b4",
   "metadata": {},
   "outputs": [],
   "source": [
    "window_size = 5\n",
    "relationships = []\n",
    "\n",
    "for i in range(sent_entity_df_filtered.index[-1]):\n",
    "    end_i = min(i+5, sent_entity_df_filtered.index[-1])\n",
    "    char_list = sum((sent_entity_df_filtered.loc[i: end_i].character_entities), [])\n",
    "    \n",
    "    # Remove duplicated characters that are next to each other\n",
    "    char_unique = [char_list[i] for i in range(len(char_list)) \n",
    "                   if (i==0) or char_list[i] != char_list[i-1]]\n",
    "    \n",
    "    if len(char_unique) > 1:\n",
    "        for idx, a in enumerate(char_unique[:-1]):\n",
    "            b = char_unique[idx + 1]\n",
    "            relationships.append({\"source\": a, \"target\": b})"
   ]
  },
  {
   "cell_type": "code",
   "execution_count": null,
   "id": "bd1b5618-a9eb-4bd1-a9f9-19dd85f63955",
   "metadata": {},
   "outputs": [],
   "source": [
    "relationship_df = pd.DataFrame(relationships)"
   ]
  },
  {
   "cell_type": "code",
   "execution_count": null,
   "id": "52f3f7a3-84a0-46b2-a0ae-90d8efac1029",
   "metadata": {
    "collapsed": true,
    "jupyter": {
     "outputs_hidden": true
    },
    "tags": []
   },
   "outputs": [],
   "source": [
    "pd.set_option('display.max_rows', None)\n",
    "relationship_df"
   ]
  },
  {
   "cell_type": "code",
   "execution_count": null,
   "id": "56d4210d-b8dc-429f-b3a7-9cff2d4715f2",
   "metadata": {
    "collapsed": true,
    "jupyter": {
     "outputs_hidden": true
    },
    "tags": []
   },
   "outputs": [],
   "source": [
    "# Sort the cases with a->b and b->a\n",
    "relationship_df = pd.DataFrame(np.sort(relationship_df.values, axis = 1), columns = relationship_df.columns)\n",
    "relationship_df"
   ]
  },
  {
   "cell_type": "code",
   "execution_count": null,
   "id": "263ef190-3146-4030-b6c6-0ba432dfe285",
   "metadata": {},
   "outputs": [],
   "source": [
    "relationship_df[\"value\"] = 1\n",
    "relationship_df = relationship_df.groupby([\"source\",\"target\"], sort=False, as_index=False).sum()"
   ]
  },
  {
   "cell_type": "code",
   "execution_count": null,
   "id": "cde877aa-1de5-420f-951a-5f362bf38b6e",
   "metadata": {},
   "outputs": [],
   "source": [
    "relationship_df.head(10)"
   ]
  },
  {
   "cell_type": "markdown",
   "id": "8225d99f-e7a0-4835-94dd-5a8353119657",
   "metadata": {},
   "source": [
    "## Graph analysis and visualization"
   ]
  },
  {
   "cell_type": "code",
   "execution_count": null,
   "id": "a99bedb8-a747-497b-b291-8b8010cb0bec",
   "metadata": {},
   "outputs": [],
   "source": [
    "# Create a graph from a pandas dataframe\n",
    "G = nx.from_pandas_edgelist(relationship_df, \n",
    "                            source = \"source\", \n",
    "                            target = \"target\", \n",
    "                            edge_attr = \"value\", \n",
    "                            create_using = nx.Graph())"
   ]
  },
  {
   "cell_type": "markdown",
   "id": "4e572cb2-19be-47d0-bee8-9e20dc016a46",
   "metadata": {},
   "source": [
    "#### Graph visualization - Networkx"
   ]
  },
  {
   "cell_type": "code",
   "execution_count": null,
   "id": "bb9f15ff-9261-40f5-9dd2-b8c9e0a86ee9",
   "metadata": {},
   "outputs": [],
   "source": [
    "plt.figure(figsize=(10,10))\n",
    "pos = nx.kamada_kawai_layout(G)\n",
    "nx.draw(G, with_labels=True, node_color='skyblue', edge_cmap=plt.cm.Blues, pos = pos)\n",
    "plt.show()"
   ]
  },
  {
   "cell_type": "markdown",
   "id": "b06308e4-b3d1-45ec-958c-da669d8c92e1",
   "metadata": {},
   "source": [
    "#### Graph visualization - Pyvis"
   ]
  },
  {
   "cell_type": "code",
   "execution_count": null,
   "id": "1deb8f1e-cb17-4124-85c6-772b147009ca",
   "metadata": {},
   "outputs": [],
   "source": [
    "from pyvis.network import Network\n",
    "net = Network(notebook = True, width=\"1000px\", height=\"700px\", bgcolor='#222222', font_color='white')\n",
    "\n",
    "node_degree = dict(G.degree)\n",
    "\n",
    "#Setting up node size attribute\n",
    "nx.set_node_attributes(G, node_degree, 'size')\n",
    "\n",
    "net.from_nx(G)\n",
    "net.show(\"witcher.html\")"
   ]
  },
  {
   "cell_type": "markdown",
   "id": "e3dbff45-e023-4ca3-bf71-a8ada643e418",
   "metadata": {},
   "source": [
    "### The most important characters in The Witcher"
   ]
  },
  {
   "cell_type": "code",
   "execution_count": null,
   "id": "42aadbfc-b125-4fc6-885e-edc80e3e02a7",
   "metadata": {
    "collapsed": true,
    "jupyter": {
     "outputs_hidden": true
    },
    "tags": []
   },
   "outputs": [],
   "source": [
    "# Degree centrality\n",
    "degree_dict = nx.degree_centrality(G)\n",
    "degree_dict"
   ]
  },
  {
   "cell_type": "code",
   "execution_count": null,
   "id": "0a164b12-5c6f-4ca7-b955-945a8c52ea7b",
   "metadata": {},
   "outputs": [],
   "source": [
    "degree_df = pd.DataFrame.from_dict(degree_dict, orient='index', columns=['centrality'])\n",
    "# Plot top 10 nodes\n",
    "degree_df.sort_values('centrality', ascending=False)[0:9].plot(kind=\"bar\")"
   ]
  },
  {
   "cell_type": "code",
   "execution_count": null,
   "id": "86dcd72d-afde-42bd-8073-3cf4a3568805",
   "metadata": {},
   "outputs": [],
   "source": [
    "# Betweenness centrality\n",
    "betweenness_dict = nx.betweenness_centrality(G)\n",
    "betweenness_df = pd.DataFrame.from_dict(betweenness_dict, orient='index', columns=['centrality'])\n",
    "# Plot top 10 nodes\n",
    "betweenness_df.sort_values('centrality', ascending=False)[0:9].plot(kind=\"bar\")"
   ]
  },
  {
   "cell_type": "code",
   "execution_count": null,
   "id": "fda1e1b8-a301-4a0f-97ab-9427b841fae1",
   "metadata": {},
   "outputs": [],
   "source": [
    "# Closeness centrality\n",
    "closeness_dict = nx.closeness_centrality(G)\n",
    "closeness_df = pd.DataFrame.from_dict(closeness_dict, orient='index', columns=['centrality'])\n",
    "# Plot top 10 nodes\n",
    "closeness_df.sort_values('centrality', ascending=False)[0:9].plot(kind=\"bar\")"
   ]
  },
  {
   "cell_type": "code",
   "execution_count": null,
   "id": "53235c9f-b3cf-4304-8fa4-230b2e9da8ce",
   "metadata": {},
   "outputs": [],
   "source": [
    "# Save centrality measures\n",
    "nx.set_node_attributes(G, degree_dict, 'degree_centrality')\n",
    "nx.set_node_attributes(G, betweenness_dict, 'betweenness_centrality')\n",
    "nx.set_node_attributes(G, closeness_dict, 'closeness_centrality')"
   ]
  },
  {
   "cell_type": "code",
   "execution_count": null,
   "id": "3550d509",
   "metadata": {},
   "outputs": [],
   "source": [
    "!pip install python-louvain"
   ]
  },
  {
   "cell_type": "markdown",
   "id": "7a855604-0781-4d49-b4ae-c8c56a53a970",
   "metadata": {},
   "source": [
    "### Community detection"
   ]
  },
  {
   "cell_type": "code",
   "execution_count": null,
   "id": "4343134e-c409-4ff4-a547-60ff12b7802d",
   "metadata": {},
   "outputs": [],
   "source": [
    "from community import community_louvain"
   ]
  },
  {
   "cell_type": "code",
   "execution_count": null,
   "id": "a84cdd86-7dbe-4451-88ad-c8393e7de6de",
   "metadata": {},
   "outputs": [],
   "source": [
    "communities = community_louvain.best_partition(G)"
   ]
  },
  {
   "cell_type": "code",
   "execution_count": null,
   "id": "7e2fed37-9cb1-40e9-8c72-c75efe25e569",
   "metadata": {
    "collapsed": true,
    "jupyter": {
     "outputs_hidden": true
    },
    "tags": []
   },
   "outputs": [],
   "source": [
    "communities"
   ]
  },
  {
   "cell_type": "code",
   "execution_count": null,
   "id": "e35f867d-2089-4b02-af89-8686aab5b794",
   "metadata": {},
   "outputs": [],
   "source": [
    "nx.set_node_attributes(G, communities, 'group')"
   ]
  },
  {
   "cell_type": "code",
   "execution_count": 122,
   "id": "3a238cc0-46f3-4472-ae47-f81fd7fd2350",
   "metadata": {},
   "outputs": [
    {
     "name": "stdout",
     "output_type": "stream",
     "text": [
      "Warning: When  cdn_resources is 'local' jupyter notebook has issues displaying graphics on chrome/safari. Use cdn_resources='in_line' or cdn_resources='remote' if you have issues viewing graphics in a notebook.\n",
      "witcher_communities.html\n"
     ]
    },
    {
     "data": {
      "text/html": [
       "\n",
       "        <iframe\n",
       "            width=\"1000px\"\n",
       "            height=\"700px\"\n",
       "            src=\"witcher_communities.html\"\n",
       "            frameborder=\"0\"\n",
       "            allowfullscreen\n",
       "            \n",
       "        ></iframe>\n",
       "        "
      ],
      "text/plain": [
       "<IPython.lib.display.IFrame at 0x16794f4d0>"
      ]
     },
     "execution_count": 122,
     "metadata": {},
     "output_type": "execute_result"
    }
   ],
   "source": [
    "com_net = Network(notebook = True, width=\"1000px\", height=\"700px\", bgcolor='#222222', font_color='white')\n",
    "com_net.from_nx(G)\n",
    "com_net.show(\"witcher_communities.html\")"
   ]
  },
  {
   "cell_type": "markdown",
   "id": "51fb2a3a-1c74-47d4-a83b-62a1f6295ae6",
   "metadata": {},
   "source": [
    "### Evolution of characters' importance"
   ]
  },
  {
   "cell_type": "code",
   "execution_count": null,
   "id": "c622e5e4-7171-4ab9-b030-3e8325d0231b",
   "metadata": {},
   "outputs": [],
   "source": [
    "from lib.utils.functions import *"
   ]
  },
  {
   "cell_type": "code",
   "execution_count": null,
   "id": "ba0d5c1f-674d-4ccf-958f-9bb3ed33c95b",
   "metadata": {},
   "outputs": [],
   "source": [
    "# Initialize empty list for graphs from books\n",
    "books_graph = []\n",
    "all_books = [b for b in os.scandir('data') if '.txt' in b.name]\n",
    "# Load spacy English languague model\n",
    "nlp = spacy.load(\"en_core_web_sm\")\n",
    "\n",
    "# Sort dir entries by name\n",
    "all_books.sort(key=lambda x: x.name)"
   ]
  },
  {
   "cell_type": "code",
   "execution_count": null,
   "id": "44dd59cb-d211-453d-9ff8-c78128310079",
   "metadata": {
    "collapsed": true,
    "jupyter": {
     "outputs_hidden": true
    },
    "tags": []
   },
   "outputs": [],
   "source": [
    "# Loop through book list and create graphs\n",
    "for book in all_books:\n",
    "    book_text = ner(book)\n",
    "    \n",
    "    # Get list of entities per sentences\n",
    "    sent_entity_df = get_ne_list_per_sentence(book_text)\n",
    "    \n",
    "\n",
    "    # Filter out sentences that don't have any character entities\n",
    "    sent_entity_df_filtered = sent_entity_df[sent_entity_df['entities'].map(len) > 0]                                                                                                               for item in x])\n",
    "\n",
    "    # Create relationship df\n",
    "    relationship_df = create_relationships(df = sent_entity_df_filtered, window_size = 5)                                                                                                               \n",
    "    \n",
    "    # Create a graph from a pandas dataframe\n",
    "    G = nx.from_pandas_edgelist(relationship_df, \n",
    "                                source = \"source\", \n",
    "                                target = \"target\", \n",
    "                                edge_attr = \"value\", \n",
    "                                create_using = nx.Graph())     \n",
    "    \n",
    "    books_graph.append(G) "
   ]
  },
  {
   "cell_type": "code",
   "execution_count": null,
   "id": "0d00e71a-980d-405b-b7f1-3ed9f5b9ab81",
   "metadata": {},
   "outputs": [],
   "source": [
    "# Creating a list of degree centrality of all the books\n",
    "evol = [nx.degree_centrality(book) for book in books_graph]\n",
    "\n",
    "# Creating a DataFrame from the list of degree centralities in all the books\n",
    "degree_evol_df = pd.DataFrame.from_records(evol)\n",
    "\n",
    "# Plotting the degree centrality evolution of 5 main characters\n",
    "degree_evol_df[[\"Geralt\", \"Ciri\", \"Yennefer\", \"Dandelion\", \"Vesemir\"]].plot()"
   ]
  },
  {
   "cell_type": "code",
   "execution_count": null,
   "id": "b3e1a6d1-6768-409f-bf34-0ae7ae7bbf62",
   "metadata": {},
   "outputs": [],
   "source": []
  }
 ],
 "metadata": {
  "kernelspec": {
   "display_name": "Python 3 (ipykernel)",
   "language": "python",
   "name": "python3"
  },
  "language_info": {
   "codemirror_mode": {
    "name": "ipython",
    "version": 3
   },
   "file_extension": ".py",
   "mimetype": "text/x-python",
   "name": "python",
   "nbconvert_exporter": "python",
   "pygments_lexer": "ipython3",
   "version": "3.11.5"
  }
 },
 "nbformat": 4,
 "nbformat_minor": 5
}
